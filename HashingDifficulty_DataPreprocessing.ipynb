{
 "cells": [
  {
   "cell_type": "code",
   "execution_count": 14,
   "metadata": {},
   "outputs": [],
   "source": [
    "import pandas as pd  \n",
    "import numpy as np  \n",
    "import matplotlib.pyplot as plt  \n",
    "import seaborn as seabornInstance \n",
    "from sklearn.model_selection import train_test_split \n",
    "from sklearn.linear_model import LogisticRegression\n",
    "from sklearn import linear_model\n",
    "from sklearn import metrics\n",
    "import datetime "
   ]
  },
  {
   "cell_type": "code",
   "execution_count": 70,
   "metadata": {},
   "outputs": [
    {
     "name": "stdout",
     "output_type": "stream",
     "text": [
      "0      2009-01-02\n",
      "1      2009-01-05\n",
      "2      2009-01-08\n",
      "3      2009-01-11\n",
      "4      2009-01-14\n",
      "          ...    \n",
      "1481   2021-03-04\n",
      "1482   2021-03-07\n",
      "1483   2021-03-10\n",
      "1484   2021-03-13\n",
      "1485   2021-03-16\n",
      "Name: Date, Length: 1486, dtype: datetime64[ns]\n"
     ]
    }
   ],
   "source": [
    "df = pd.read_csv(\"difficulty.csv\", sep=',')\n",
    "dates = pd.to_datetime(df['Timestamp'])\n",
    "df['Date'] = [dt.date() for dt in dates]\n",
    "df['Date'] = pd.to_datetime(df['Date'])\n",
    "print(df['Date'])\n"
   ]
  },
  {
   "cell_type": "code",
   "execution_count": null,
   "metadata": {},
   "outputs": [],
   "source": []
  },
  {
   "cell_type": "code",
   "execution_count": 69,
   "metadata": {},
   "outputs": [
    {
     "name": "stdout",
     "output_type": "stream",
     "text": [
      "0      2013-04-29\n",
      "1      2013-04-30\n",
      "2      2013-05-01\n",
      "3      2013-05-02\n",
      "4      2013-05-03\n",
      "          ...    \n",
      "2820   2021-01-17\n",
      "2821   2021-01-18\n",
      "2822   2021-01-19\n",
      "2823   2021-01-20\n",
      "2824   2021-01-21\n",
      "Name: Date, Length: 2825, dtype: datetime64[ns]\n"
     ]
    }
   ],
   "source": [
    "begin_date = '2013-04-29'\n",
    "end_date= '2021-01-21'\n",
    "df_new = pd.DataFrame({'Date':pd.date_range(begin_date, end_date)})\n",
    "print(df_new['Date'])"
   ]
  },
  {
   "cell_type": "code",
   "execution_count": 84,
   "metadata": {},
   "outputs": [],
   "source": [
    "df_merge_col = pd.merge(df_new, df, on='Date', how='left')"
   ]
  },
  {
   "cell_type": "code",
   "execution_count": 85,
   "metadata": {},
   "outputs": [
    {
     "name": "stdout",
     "output_type": "stream",
     "text": [
      "           Date            Timestamp    difficulty\n",
      "0    2013-04-29                  NaN           NaN\n",
      "1    2013-04-30  2013-04-30 00:00:00  1.007629e+07\n",
      "2    2013-05-01                  NaN           NaN\n",
      "3    2013-05-02                  NaN           NaN\n",
      "4    2013-05-03  2013-05-03 00:00:00  1.007629e+07\n",
      "...         ...                  ...           ...\n",
      "2820 2021-01-17                  NaN           NaN\n",
      "2821 2021-01-18  2021-01-18 00:00:00  2.060742e+13\n",
      "2822 2021-01-19                  NaN           NaN\n",
      "2823 2021-01-20                  NaN           NaN\n",
      "2824 2021-01-21  2021-01-21 00:00:00  2.060742e+13\n",
      "\n",
      "[2825 rows x 3 columns]\n"
     ]
    }
   ],
   "source": [
    "print(df_merge_col)"
   ]
  },
  {
   "cell_type": "code",
   "execution_count": 96,
   "metadata": {},
   "outputs": [],
   "source": [
    "df_merge_col = df_merge_col.fillna(method='bfill')"
   ]
  },
  {
   "cell_type": "code",
   "execution_count": 87,
   "metadata": {},
   "outputs": [
    {
     "name": "stdout",
     "output_type": "stream",
     "text": [
      "0      2009-01-09\n",
      "1      2009-01-12\n",
      "2      2009-01-15\n",
      "3      2009-01-18\n",
      "4      2009-01-21\n",
      "          ...    \n",
      "1478   2021-03-02\n",
      "1479   2021-03-05\n",
      "1480   2021-03-08\n",
      "1481   2021-03-11\n",
      "1482   2021-03-14\n",
      "Name: Date, Length: 1483, dtype: datetime64[ns]\n"
     ]
    }
   ],
   "source": [
    "df = pd.read_csv(\"hash-rate.csv\", sep=',')\n",
    "dates = pd.to_datetime(df['Timestamp'])\n",
    "df['Date'] = [dt.date() for dt in dates]\n",
    "df['Date'] = pd.to_datetime(df['Date'])\n",
    "print(df['Date'])"
   ]
  },
  {
   "cell_type": "code",
   "execution_count": 89,
   "metadata": {},
   "outputs": [
    {
     "name": "stdout",
     "output_type": "stream",
     "text": [
      "           Date            Timestamp     hash-rate\n",
      "0    2013-04-29                  NaN           NaN\n",
      "1    2013-04-30                  NaN           NaN\n",
      "2    2013-05-01  2013-05-01 00:00:00  7.522108e+01\n",
      "3    2013-05-02                  NaN           NaN\n",
      "4    2013-05-03                  NaN           NaN\n",
      "...         ...                  ...           ...\n",
      "2820 2021-01-17                  NaN           NaN\n",
      "2821 2021-01-18                  NaN           NaN\n",
      "2822 2021-01-19  2021-01-19 00:00:00  1.502942e+08\n",
      "2823 2021-01-20                  NaN           NaN\n",
      "2824 2021-01-21                  NaN           NaN\n",
      "\n",
      "[2825 rows x 3 columns]\n"
     ]
    }
   ],
   "source": [
    "df_merge_col_hash = pd.merge(df_new, df, on='Date', how='left')\n",
    "print(df_merge_col_hash)"
   ]
  },
  {
   "cell_type": "code",
   "execution_count": 98,
   "metadata": {},
   "outputs": [],
   "source": [
    "df_merge_col_hash = df_merge_col_hash.fillna(method='ffill')"
   ]
  },
  {
   "cell_type": "code",
   "execution_count": 99,
   "metadata": {},
   "outputs": [
    {
     "name": "stdout",
     "output_type": "stream",
     "text": [
      "           Date            Timestamp     hash-rate\n",
      "0    2013-04-29  2013-05-01 00:00:00  7.522108e+01\n",
      "1    2013-04-30  2013-05-01 00:00:00  7.522108e+01\n",
      "2    2013-05-01  2013-05-01 00:00:00  7.522108e+01\n",
      "3    2013-05-02  2013-05-04 00:00:00  7.388575e+01\n",
      "4    2013-05-03  2013-05-04 00:00:00  7.388575e+01\n",
      "...         ...                  ...           ...\n",
      "2820 2021-01-17  2021-01-19 00:00:00  1.502942e+08\n",
      "2821 2021-01-18  2021-01-19 00:00:00  1.502942e+08\n",
      "2822 2021-01-19  2021-01-19 00:00:00  1.502942e+08\n",
      "2823 2021-01-20  2021-01-19 00:00:00  1.502942e+08\n",
      "2824 2021-01-21  2021-01-19 00:00:00  1.502942e+08\n",
      "\n",
      "[2825 rows x 3 columns]\n"
     ]
    }
   ],
   "source": [
    "print(df_merge_col_hash)"
   ]
  },
  {
   "cell_type": "code",
   "execution_count": 103,
   "metadata": {},
   "outputs": [
    {
     "name": "stdout",
     "output_type": "stream",
     "text": [
      "           Date          Timestamp_x     hash-rate          Timestamp_y  \\\n",
      "0    2013-04-29  2013-05-01 00:00:00  7.522108e+01  2013-04-30 00:00:00   \n",
      "1    2013-04-30  2013-05-01 00:00:00  7.522108e+01  2013-04-30 00:00:00   \n",
      "2    2013-05-01  2013-05-01 00:00:00  7.522108e+01  2013-05-03 00:00:00   \n",
      "3    2013-05-02  2013-05-04 00:00:00  7.388575e+01  2013-05-03 00:00:00   \n",
      "4    2013-05-03  2013-05-04 00:00:00  7.388575e+01  2013-05-03 00:00:00   \n",
      "...         ...                  ...           ...                  ...   \n",
      "2820 2021-01-17  2021-01-19 00:00:00  1.502942e+08  2021-01-18 00:00:00   \n",
      "2821 2021-01-18  2021-01-19 00:00:00  1.502942e+08  2021-01-18 00:00:00   \n",
      "2822 2021-01-19  2021-01-19 00:00:00  1.502942e+08  2021-01-21 00:00:00   \n",
      "2823 2021-01-20  2021-01-19 00:00:00  1.502942e+08  2021-01-21 00:00:00   \n",
      "2824 2021-01-21  2021-01-19 00:00:00  1.502942e+08  2021-01-21 00:00:00   \n",
      "\n",
      "        difficulty  \n",
      "0     1.007629e+07  \n",
      "1     1.007629e+07  \n",
      "2     1.007629e+07  \n",
      "3     1.007629e+07  \n",
      "4     1.007629e+07  \n",
      "...            ...  \n",
      "2820  2.060742e+13  \n",
      "2821  2.060742e+13  \n",
      "2822  2.060742e+13  \n",
      "2823  2.060742e+13  \n",
      "2824  2.060742e+13  \n",
      "\n",
      "[2825 rows x 5 columns]\n"
     ]
    }
   ],
   "source": [
    "df_tech = pd.merge(df_merge_col_hash, df_merge_col, on='Date')\n",
    "print(df_tech)\n",
    "X = df_tech[['Date', 'hash-rate', 'difficulty']]"
   ]
  },
  {
   "cell_type": "code",
   "execution_count": 108,
   "metadata": {},
   "outputs": [
    {
     "name": "stdout",
     "output_type": "stream",
     "text": [
      "           Date     hash-rate    difficulty\n",
      "0    2013-04-29  7.522108e+01  1.007629e+07\n",
      "1    2013-04-30  7.522108e+01  1.007629e+07\n",
      "2    2013-05-01  7.522108e+01  1.007629e+07\n",
      "3    2013-05-02  7.388575e+01  1.007629e+07\n",
      "4    2013-05-03  7.388575e+01  1.007629e+07\n",
      "...         ...           ...           ...\n",
      "2820 2021-01-17  1.502942e+08  2.060742e+13\n",
      "2821 2021-01-18  1.502942e+08  2.060742e+13\n",
      "2822 2021-01-19  1.502942e+08  2.060742e+13\n",
      "2823 2021-01-20  1.502942e+08  2.060742e+13\n",
      "2824 2021-01-21  1.502942e+08  2.060742e+13\n",
      "\n",
      "[2825 rows x 3 columns]\n"
     ]
    }
   ],
   "source": [
    "print(X)\n",
    "X.to_csv('Technology.csv',index=False)"
   ]
  }
 ],
 "metadata": {
  "kernelspec": {
   "display_name": "Python 3",
   "language": "python",
   "name": "python3"
  },
  "language_info": {
   "codemirror_mode": {
    "name": "ipython",
    "version": 3
   },
   "file_extension": ".py",
   "mimetype": "text/x-python",
   "name": "python",
   "nbconvert_exporter": "python",
   "pygments_lexer": "ipython3",
   "version": "3.6.4"
  }
 },
 "nbformat": 4,
 "nbformat_minor": 4
}
