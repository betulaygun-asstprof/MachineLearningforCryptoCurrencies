{
 "cells": [
  {
   "cell_type": "code",
   "execution_count": 3,
   "metadata": {},
   "outputs": [],
   "source": [
    "import pandas as pd  \n",
    "import numpy as np  \n",
    "import matplotlib.pyplot as plt  \n",
    "import seaborn as seabornInstance \n",
    "from sklearn.model_selection import train_test_split \n",
    "from sklearn.linear_model import LogisticRegression\n",
    "from sklearn import linear_model\n",
    "from sklearn import metrics"
   ]
  },
  {
   "cell_type": "code",
   "execution_count": 4,
   "metadata": {},
   "outputs": [],
   "source": [
    "df = pd.read_csv(\"bitcoindata_scaled_02.10.21.csv\", sep=';')\n",
    "#print(df)\n",
    "#df['Result']"
   ]
  },
  {
   "cell_type": "code",
   "execution_count": 5,
   "metadata": {},
   "outputs": [],
   "source": [
    "df_tech = pd.read_csv(\"Technology.csv\", sep=',')\n",
    "#print(df_tech)\n",
    "#df['Result']\n"
   ]
  },
  {
   "cell_type": "code",
   "execution_count": 6,
   "metadata": {},
   "outputs": [],
   "source": [
    "df_birles = pd.merge(df, df_tech, on='Date')\n",
    "\n",
    "df = df_birles.rename(columns={'hash-rate':'HASHRATE', 'difficulty':'MINDIFF'})\n",
    "#print(df_birles)"
   ]
  },
  {
   "cell_type": "code",
   "execution_count": 7,
   "metadata": {},
   "outputs": [
    {
     "name": "stdout",
     "output_type": "stream",
     "text": [
      "0       1.007629e+07\n",
      "1       1.007629e+07\n",
      "2       1.007629e+07\n",
      "3       1.007629e+07\n",
      "4       1.007629e+07\n",
      "            ...     \n",
      "2820    2.060742e+13\n",
      "2821    2.060742e+13\n",
      "2822    2.060742e+13\n",
      "2823    2.060742e+13\n",
      "2824    2.060742e+13\n",
      "Name: MINDIFF, Length: 2825, dtype: float64\n"
     ]
    }
   ],
   "source": [
    "print(df['MINDIFF'])"
   ]
  },
  {
   "cell_type": "code",
   "execution_count": 8,
   "metadata": {},
   "outputs": [
    {
     "name": "stdout",
     "output_type": "stream",
     "text": [
      "        EURUSD     SP500  DawJones       VIX      Gold   Libor3m    US10YR  \\\n",
      "0     1.384636 -1.597847 -1.564768 -0.419169  0.658277 -0.887240 -0.695392   \n",
      "1     1.441948 -1.590240 -1.555560 -0.444735  0.659523 -0.888400 -0.695392   \n",
      "2     1.519845 -1.618806 -1.606306 -0.314213  0.643321 -0.888400 -0.757902   \n",
      "3     1.534783 -1.590201 -1.580267 -0.435316  0.576020 -0.888400 -0.757902   \n",
      "4     1.408823 -1.557869 -1.541336 -0.534889  0.678218 -0.886080 -0.570371   \n",
      "...        ...       ...       ...       ...       ...       ...       ...   \n",
      "2820  0.366433  2.609253  2.197885  0.937182  2.493267 -0.945595 -1.625234   \n",
      "2821  0.336624  2.623978  2.199161  0.900178  2.460198 -0.945355 -1.629141   \n",
      "2822  0.346497  2.638703  2.200437  0.863174  2.505813 -0.945784 -1.633047   \n",
      "2823  0.412725  2.740405  2.281478  0.639807  2.563143 -0.947234 -1.633047   \n",
      "2824  0.387731  2.742748  2.236146  0.604822  2.628201 -0.952605 -1.601792   \n",
      "\n",
      "      WTICRUDE      HASHRATE       MINDIFF  \n",
      "0     1.546898  7.522108e+01  1.007629e+07  \n",
      "1     1.506884  7.522108e+01  1.007629e+07  \n",
      "2     1.392820  7.522108e+01  1.007629e+07  \n",
      "3     1.528961  7.388575e+01  1.007629e+07  \n",
      "4     1.600251  7.388575e+01  1.007629e+07  \n",
      "...        ...           ...           ...  \n",
      "2820 -0.363214  1.502942e+08  2.060742e+13  \n",
      "2821 -0.356085  1.502942e+08  2.060742e+13  \n",
      "2822 -0.348956  1.502942e+08  2.060742e+13  \n",
      "2823 -0.335618  1.502942e+08  2.060742e+13  \n",
      "2824 -0.342977  1.502942e+08  2.060742e+13  \n",
      "\n",
      "[2825 rows x 10 columns]\n"
     ]
    }
   ],
   "source": [
    "y=df['Bitcoin']\n",
    "X = df[['EURUSD','SP500','DawJones','VIX','Gold','Libor3m','US10YR','WTICRUDE', 'HASHRATE', 'MINDIFF']]\n",
    "#features = df.columns[2:]\n",
    "print(X)\n",
    "#print(features)"
   ]
  },
  {
   "cell_type": "code",
   "execution_count": null,
   "metadata": {},
   "outputs": [],
   "source": []
  },
  {
   "cell_type": "code",
   "execution_count": 9,
   "metadata": {},
   "outputs": [],
   "source": [
    "X_train, X_test, y_train, y_test = train_test_split(X, y, test_size=0.4, random_state=0)"
   ]
  },
  {
   "cell_type": "code",
   "execution_count": 10,
   "metadata": {},
   "outputs": [
    {
     "name": "stdout",
     "output_type": "stream",
     "text": [
      "[('EURUSD', 0.01096), ('SP500', 0.29267), ('DowJones', 0.18192), ('VIX', 0.00952), ('Gold', 0.00956), ('Libor3m', 0.05517), ('US10YR', 0.00584), ('WTICRUDE', 0.00526), ('HASHRATE', 0.04323), ('MINDIFF', 0.38588)]\n"
     ]
    }
   ],
   "source": [
    "#Apply Random Forest\n",
    "# Create a random forest classifier\n",
    "from sklearn.ensemble import RandomForestRegressor\n",
    "clf = RandomForestRegressor(n_estimators=10000, random_state=0, n_jobs=-1, max_depth=12)\n",
    "\n",
    "# Train the classifier\n",
    "clf.fit(X_train, y_train)\n",
    "\n",
    "y_pred = clf.predict(X_test)\n",
    "\n",
    "feat_labels = ['EURUSD','SP500','DowJones','VIX','Gold','Libor3m','US10YR','WTICRUDE', 'HASHRATE', 'MINDIFF']\n",
    "# Print the name and gini importance of each feature\n",
    "importances = list(clf.feature_importances_)\n",
    "feature_importances = [(feature, round(importance, 5)) for feature, importance in zip(feat_labels, importances)]\n",
    "print(feature_importances)"
   ]
  },
  {
   "cell_type": "code",
   "execution_count": 11,
   "metadata": {},
   "outputs": [
    {
     "name": "stdout",
     "output_type": "stream",
     "text": [
      "Variable: MINDIFF              Importance: 0.38588\n",
      "Variable: SP500                Importance: 0.29267\n",
      "Variable: DowJones             Importance: 0.18192\n",
      "Variable: Libor3m              Importance: 0.05517\n",
      "Variable: HASHRATE             Importance: 0.04323\n",
      "Variable: EURUSD               Importance: 0.01096\n",
      "Variable: Gold                 Importance: 0.00956\n",
      "Variable: VIX                  Importance: 0.00952\n",
      "Variable: US10YR               Importance: 0.00584\n",
      "Variable: WTICRUDE             Importance: 0.00526\n"
     ]
    },
    {
     "data": {
      "image/png": "[encoded data removed]",
      "text/plain": [
       "<Figure size 432x288 with 1 Axes>"
      ]
     },
     "metadata": {
      "needs_background": "light"
     },
     "output_type": "display_data"
    }
   ],
   "source": [
    "import matplotlib.pyplot as plt\n",
    "feature_importances = sorted(feature_importances, key = lambda x: x[1], reverse = True)\n",
    "[print('Variable: {:20} Importance: {}'.format(*pair)) for pair in feature_importances]\n",
    "\n",
    "# list of x locations for plotting\n",
    "x_values = list(range(len(importances)))# Make a bar chart\n",
    "plt.bar(x_values, importances, orientation = 'vertical', color = 'r', edgecolor = 'k', linewidth = 1.2)# Tick labels for x axis\n",
    "plt.xticks(x_values, feat_labels, rotation='vertical')# Axis labels and title\n",
    "plt.ylabel('Importance'); plt.xlabel('Variable'); plt.title('Variable Importances');"
   ]
  },
  {
   "cell_type": "code",
   "execution_count": 12,
   "metadata": {},
   "outputs": [
    {
     "name": "stdout",
     "output_type": "stream",
     "text": [
      "Mean Absolute Error: 0.03747057171477746\n",
      "Mean Squared Error: 0.012263183942398908\n",
      "Root Mean Squared Error: 0.11073926107031286\n"
     ]
    }
   ],
   "source": [
    "print('Mean Absolute Error:', metrics.mean_absolute_error(y_test, y_pred))\n",
    "print('Mean Squared Error:', metrics.mean_squared_error(y_test, y_pred))\n",
    "print('Root Mean Squared Error:', np.sqrt(metrics.mean_squared_error(y_test, y_pred)))"
   ]
  },
  {
   "cell_type": "code",
   "execution_count": 27,
   "metadata": {},
   "outputs": [
    {
     "name": "stdout",
     "output_type": "stream",
     "text": [
      "                            OLS Regression Results                            \n",
      "==============================================================================\n",
      "Dep. Variable:                Bitcoin   R-squared:                       0.805\n",
      "Model:                            OLS   Adj. R-squared:                  0.804\n",
      "Method:                 Least Squares   F-statistic:                     1292.\n",
      "Date:                Fri, 19 Mar 2021   Prob (F-statistic):               0.00\n",
      "Time:                        12:24:50   Log-Likelihood:                -1698.4\n",
      "No. Observations:                2825   AIC:                             3417.\n",
      "Df Residuals:                    2815   BIC:                             3476.\n",
      "Df Model:                           9                                         \n",
      "Covariance Type:            nonrobust                                         \n",
      "==============================================================================\n",
      "                 coef    std err          t      P>|t|      [0.025      0.975]\n",
      "------------------------------------------------------------------------------\n",
      "EURUSD         0.3220      0.022     14.402      0.000       0.278       0.366\n",
      "SP500         -0.1675      0.046     -3.652      0.000      -0.257      -0.078\n",
      "DawJones       1.1920      0.049     24.496      0.000       1.097       1.287\n",
      "VIX            0.1235      0.013      9.840      0.000       0.099       0.148\n",
      "Gold           0.0217      0.031      0.701      0.483      -0.039       0.082\n",
      "Libor3m       -0.2404      0.018    -13.007      0.000      -0.277      -0.204\n",
      "US10YR         0.0117      0.029      0.402      0.687      -0.045       0.069\n",
      "WTICRUDE      -0.1214      0.023     -5.176      0.000      -0.167      -0.075\n",
      "HASHRATE    1.639e-08   2.59e-09      6.335      0.000    1.13e-08    2.15e-08\n",
      "MINDIFF    -1.203e-13   1.88e-14     -6.409      0.000   -1.57e-13   -8.35e-14\n",
      "==============================================================================\n",
      "Omnibus:                     1946.660   Durbin-Watson:                   0.032\n",
      "Prob(Omnibus):                  0.000   Jarque-Bera (JB):            43604.889\n",
      "Skew:                           2.965   Prob(JB):                         0.00\n",
      "Kurtosis:                      21.311   Cond. No.                     5.76e+13\n",
      "==============================================================================\n",
      "\n",
      "Notes:\n",
      "[1] Standard Errors assume that the covariance matrix of the errors is correctly specified.\n",
      "[2] The condition number is large, 5.76e+13. This might indicate that there are\n",
      "strong multicollinearity or other numerical problems.\n"
     ]
    }
   ],
   "source": [
    "import statsmodels.api as sm\n",
    "model = sm.OLS(y,X)\n",
    "results = model.fit()\n",
    "print(results.summary())\n"
   ]
  },
  {
   "cell_type": "code",
   "execution_count": 41,
   "metadata": {},
   "outputs": [
    {
     "name": "stdout",
     "output_type": "stream",
     "text": [
      "[ 3.04324575e-01 -1.43864246e-01  1.22377511e+00  1.48424584e-01\n",
      "  4.63044920e-02 -2.43653196e-01 -2.21674391e-03 -9.09628670e-02\n",
      "  1.55044415e-08 -1.28203004e-13]\n",
      "Feature: 0, Score: 0.30432\n",
      "Feature: 1, Score: -0.14386\n",
      "Feature: 2, Score: 1.22378\n",
      "Feature: 3, Score: 0.14842\n",
      "Feature: 4, Score: 0.04630\n",
      "Feature: 5, Score: -0.24365\n",
      "Feature: 6, Score: -0.00222\n",
      "Feature: 7, Score: -0.09096\n",
      "Feature: 8, Score: 0.00000\n",
      "Feature: 9, Score: -0.00000\n"
     ]
    },
    {
     "data": {
      "image/png": "[encoded data removed]",
      "text/plain": [
       "<Figure size 432x288 with 1 Axes>"
      ]
     },
     "metadata": {
      "needs_background": "light"
     },
     "output_type": "display_data"
    }
   ],
   "source": [
    "from sklearn.linear_model import LinearRegression\n",
    "model = LinearRegression()\n",
    "model.fit(X, y)\n",
    "# get importance\n",
    "importance = model.coef_\n",
    "\n",
    "print(importance)\n",
    "for i,v in enumerate(importance):\n",
    "\tprint('Feature: %0d, Score: %.5f' % (i,v))\n",
    "# plot feature importance\n",
    "plt.bar([x for x in range(len(importance))], importance)\n",
    "plt.show()"
   ]
  },
  {
   "cell_type": "code",
   "execution_count": 45,
   "metadata": {},
   "outputs": [
    {
     "name": "stdout",
     "output_type": "stream",
     "text": [
      "Feature: 0, Score: 0.01392\n",
      "Feature: 1, Score: 0.01068\n",
      "Feature: 2, Score: 0.22117\n",
      "Feature: 3, Score: 0.01028\n",
      "Feature: 4, Score: 0.00206\n",
      "Feature: 5, Score: 0.06506\n",
      "Feature: 6, Score: 0.01978\n",
      "Feature: 7, Score: 0.00185\n",
      "Feature: 8, Score: 0.04498\n",
      "Feature: 9, Score: 0.61021\n"
     ]
    },
    {
     "data": {
      "image/png": "[encoded data removed]",
      "text/plain": [
       "<Figure size 432x288 with 1 Axes>"
      ]
     },
     "metadata": {
      "needs_background": "light"
     },
     "output_type": "display_data"
    }
   ],
   "source": [
    "from sklearn.tree import DecisionTreeRegressor\n",
    "model = DecisionTreeRegressor()\n",
    "# fit the model\n",
    "model.fit(X, y)\n",
    "# get importance\n",
    "importance = model.feature_importances_\n",
    "# summarize feature importance\n",
    "for i,v in enumerate(importance):\n",
    "\tprint('Feature: %0d, Score: %.5f' % (i,v))\n",
    "# plot feature importance\n",
    "plt.bar([x for x in range(len(importance))], importance)\n",
    "plt.show()"
   ]
  },
  {
   "cell_type": "code",
   "execution_count": 48,
   "metadata": {},
   "outputs": [
    {
     "name": "stdout",
     "output_type": "stream",
     "text": [
      "Feature: 0, Score: 0.00243\n",
      "Feature: 1, Score: 0.01906\n",
      "Feature: 2, Score: 0.12349\n",
      "Feature: 3, Score: 0.00307\n",
      "Feature: 4, Score: 0.00622\n",
      "Feature: 5, Score: 0.02257\n",
      "Feature: 6, Score: 0.00754\n",
      "Feature: 7, Score: 0.00152\n",
      "Feature: 8, Score: 0.03526\n",
      "Feature: 9, Score: 0.77885\n"
     ]
    },
    {
     "data": {
      "image/png": "[encoded data removed]",
      "text/plain": [
       "<Figure size 432x288 with 1 Axes>"
      ]
     },
     "metadata": {
      "needs_background": "light"
     },
     "output_type": "display_data"
    }
   ],
   "source": [
    "from xgboost import XGBRegressor\n",
    "model = XGBRegressor()\n",
    "# fit the model\n",
    "model.fit(X, y)\n",
    "# get importance\n",
    "importance = model.feature_importances_\n",
    "# summarize feature importance\n",
    "for i,v in enumerate(importance):\n",
    "\tprint('Feature: %0d, Score: %.5f' % (i,v))\n",
    "# plot feature importance\n",
    "plt.bar([x for x in range(len(importance))], importance)\n",
    "plt.show() "
   ]
  },
  {
   "cell_type": "code",
   "execution_count": 49,
   "metadata": {},
   "outputs": [
    {
     "name": "stdout",
     "output_type": "stream",
     "text": [
      "Index(['EURUSD', 'SP500', 'DawJones', 'VIX', 'Gold', 'Libor3m', 'US10YR',\n",
      "       'WTICRUDE', 'HASHRATE', 'MINDIFF'],\n",
      "      dtype='object')\n",
      "[0.02710604 0.16247082 0.27699292 0.00251024 0.03928209 0.08537443\n",
      " 0.03408289 0.0300026  0.19537505 0.14680292]\n",
      "Feature: 0, Score: 0.02711\n",
      "Feature: 1, Score: 0.16247\n",
      "Feature: 2, Score: 0.27699\n",
      "Feature: 3, Score: 0.00251\n",
      "Feature: 4, Score: 0.03928\n",
      "Feature: 5, Score: 0.08537\n",
      "Feature: 6, Score: 0.03408\n",
      "Feature: 7, Score: 0.03000\n",
      "Feature: 8, Score: 0.19538\n",
      "Feature: 9, Score: 0.14680\n"
     ]
    },
    {
     "data": {
      "image/png": "[encoded data removed]",
      "text/plain": [
       "<Figure size 432x288 with 1 Axes>"
      ]
     },
     "metadata": {
      "needs_background": "light"
     },
     "output_type": "display_data"
    }
   ],
   "source": [
    "from sklearn.ensemble import ExtraTreesRegressor\n",
    "\n",
    "# feature extraction\n",
    "model = ExtraTreesRegressor(n_estimators=10)\n",
    "model.fit(X, y)\n",
    "print(X.columns)\n",
    "print(model.feature_importances_)\n",
    "importance = model.feature_importances_\n",
    "# summarize feature importance\n",
    "for i,v in enumerate(importance):\n",
    "\tprint('Feature: %0d, Score: %.5f' % (i,v))\n",
    "# plot feature importance\n",
    "plt.bar([x for x in range(len(importance))], importance)\n",
    "plt.show()"
   ]
  },
  {
   "cell_type": "code",
   "execution_count": 55,
   "metadata": {},
   "outputs": [
    {
     "name": "stdout",
     "output_type": "stream",
     "text": [
      "Feature: 0, Score: 0.00005\n",
      "Feature: 1, Score: -0.00002\n",
      "Feature: 2, Score: 0.00005\n",
      "Feature: 3, Score: 0.00003\n",
      "Feature: 4, Score: -0.00001\n",
      "Feature: 5, Score: 0.00001\n",
      "Feature: 6, Score: 0.00009\n",
      "Feature: 7, Score: 0.00001\n",
      "Feature: 8, Score: 0.00375\n",
      "Feature: 9, Score: 1.94814\n"
     ]
    },
    {
     "data": {
      "image/png": "[encoded data removed]",
      "text/plain": [
       "<Figure size 432x288 with 1 Axes>"
      ]
     },
     "metadata": {
      "needs_background": "light"
     },
     "output_type": "display_data"
    }
   ],
   "source": [
    "from sklearn.neighbors import KNeighborsRegressor\n",
    "from sklearn.inspection import permutation_importance\n",
    "model = KNeighborsRegressor()\n",
    "# fit the model\n",
    "model.fit(X, y)\n",
    "# perform permutation importance\n",
    "results = permutation_importance(model, X, y)\n",
    "# get importance\n",
    "importance = results.importances_mean\n",
    "# summarize feature importance\n",
    "for i,v in enumerate(importance):\n",
    "\tprint('Feature: %0d, Score: %.5f' % (i,v))\n",
    "# plot feature importance\n",
    "plt.bar([x for x in range(len(importance))], importance)\n",
    "plt.show()"
   ]
  },
  {
   "cell_type": "code",
   "execution_count": 15,
   "metadata": {},
   "outputs": [],
   "source": [
    "def f_importances(coef, names):\n",
    "    imp = coef\n",
    "    imp,names = zip(*sorted(zip(imp,names)))\n",
    "    plt.barh(range(len(names)), imp, align='center')\n",
    "    plt.yticks(range(len(names)), names)\n",
    "    plt.show()"
   ]
  },
  {
   "cell_type": "code",
   "execution_count": null,
   "metadata": {},
   "outputs": [],
   "source": [
    "from sklearn import svm\n",
    "\n",
    "#Create a svm Regressor\n",
    "clf = svm.SVR(kernel='linear') # Linear Kernel\n",
    "\n",
    "#Train the model using the training sets\n",
    "clf.fit(X_train, y_train)\n",
    "\n",
    "#Predict the response for test dataset\n",
    "y_pred = clf.predict(X_test)\n",
    "\n",
    "feat_labels = ['EURUSD','SP500','DowJones','VIX','Gold','Libor3m','US10YR','WTICRUDE', 'HASHRATE', 'MINDIFF']\n",
    "# Print the name and gini importance of each feature\n",
    "importances = list(clf.coef_)\n",
    "print(importances)\n",
    "pd.Series(abs(clf.coef_[0]), index=X_train.columns).nlargest(10).plot(kind='barh')"
   ]
  },
  {
   "cell_type": "code",
   "execution_count": null,
   "metadata": {},
   "outputs": [],
   "source": [
    "print(len(y_test))\n",
    "\n",
    "y_test_sorted = y_test.values\n",
    "print(y_test_sorted)\n",
    "print(y_pred)"
   ]
  },
  {
   "cell_type": "code",
   "execution_count": null,
   "metadata": {},
   "outputs": [],
   "source": [
    "import matplotlib.pyplot as plt\n",
    "plt.figure(figsize=(10,6))\n",
    "plt.plot(y_test_sorted)\n",
    "plt.plot(y_pred)\n",
    "print(y_test.describe())\n",
    "#print(y_pred.describe())\n",
    "#plot_series(y_test)"
   ]
  },
  {
   "cell_type": "code",
   "execution_count": null,
   "metadata": {},
   "outputs": [],
   "source": [
    "def plot_series(time, series, format=\"-\", start=0, end=None):\n",
    "    plt.plot(time[start:end], series[start:end], format)\n",
    "    plt.xlabel(\"Time\")\n",
    "    plt.ylabel(\"Value\")\n",
    "    plt.grid(True)"
   ]
  },
  {
   "cell_type": "code",
   "execution_count": null,
   "metadata": {},
   "outputs": [],
   "source": [
    "from sklearn import metrics\n",
    "\n",
    "print('Mean Absolute Error:', metrics.mean_absolute_error(y_test, y_pred))\n",
    "print('Mean Squared Error:', metrics.mean_squared_error(y_test, y_pred))\n",
    "print('Root Mean Squared Error:', np.sqrt(metrics.mean_squared_error(y_test, y_pred)))"
   ]
  },
  {
   "cell_type": "code",
   "execution_count": null,
   "metadata": {},
   "outputs": [],
   "source": []
  },
  {
   "cell_type": "code",
   "execution_count": null,
   "metadata": {},
   "outputs": [],
   "source": []
  },
  {
   "cell_type": "code",
   "execution_count": null,
   "metadata": {},
   "outputs": [],
   "source": []
  }
 ],
 "metadata": {
  "kernelspec": {
   "display_name": "Python 3",
   "language": "python",
   "name": "python3"
  },
  "language_info": {
   "codemirror_mode": {
    "name": "ipython",
    "version": 3
   },
   "file_extension": ".py",
   "mimetype": "text/x-python",
   "name": "python",
   "nbconvert_exporter": "python",
   "pygments_lexer": "ipython3",
   "version": "3.6.4"
  }
 },
 "nbformat": 4,
 "nbformat_minor": 4
}
